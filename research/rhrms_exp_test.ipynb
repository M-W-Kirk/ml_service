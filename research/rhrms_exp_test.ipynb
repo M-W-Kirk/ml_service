{
 "cells": [
  {
   "cell_type": "code",
   "execution_count": 5,
   "metadata": {},
   "outputs": [],
   "source": [
    "import json # will be needed for saving preprocessing details\n",
    "import numpy as np # for data engineering\n",
    "import pandas as pd # for data engineering\n",
    "import joblib # saving algorithm and preprocessing serialized objects\n",
    "from sklearn.model_selection import train_test_split # used for data splitting\n",
    "from sklearn.preprocessing import LabelEncoder # used for preprocessing\n",
    "from sklearn.ensemble import RandomForestClassifier # training the algorithm\n",
    "from sklearn.ensemble import ExtraTreesClassifier # training the algorithm"
   ]
  },
  {
   "cell_type": "code",
   "execution_count": 6,
   "metadata": {},
   "outputs": [
    {
     "data": {
      "text/html": [
       "<div>\n",
       "<style scoped>\n",
       "    .dataframe tbody tr th:only-of-type {\n",
       "        vertical-align: middle;\n",
       "    }\n",
       "\n",
       "    .dataframe tbody tr th {\n",
       "        vertical-align: top;\n",
       "    }\n",
       "\n",
       "    .dataframe thead th {\n",
       "        text-align: right;\n",
       "    }\n",
       "</style>\n",
       "<table border=\"1\" class=\"dataframe\">\n",
       "  <thead>\n",
       "    <tr style=\"text-align: right;\">\n",
       "      <th></th>\n",
       "      <th>FIPS</th>\n",
       "      <th>MaxPrecipitation</th>\n",
       "      <th>WindSwathRadii</th>\n",
       "      <th>CountyOverlap</th>\n",
       "      <th>VALUE_1</th>\n",
       "      <th>VALUE_2</th>\n",
       "      <th>VALUE_3</th>\n",
       "      <th>VALUE_4</th>\n",
       "      <th>VALUE_5</th>\n",
       "      <th>VALUE_7</th>\n",
       "      <th>...</th>\n",
       "      <th>Deciduous_Forest</th>\n",
       "      <th>Evergreen_Forest</th>\n",
       "      <th>Mixed_Forest</th>\n",
       "      <th>Shrub_Scrub</th>\n",
       "      <th>Herbaceuous</th>\n",
       "      <th>Hay_Pasture</th>\n",
       "      <th>Cultivated_Crops</th>\n",
       "      <th>Woody_Wetlands</th>\n",
       "      <th>Emergent_Herbaceuous_Wetlands</th>\n",
       "      <th>Population</th>\n",
       "    </tr>\n",
       "  </thead>\n",
       "  <tbody>\n",
       "    <tr>\n",
       "      <th>0</th>\n",
       "      <td>22001</td>\n",
       "      <td>4\" to 6\"</td>\n",
       "      <td>58</td>\n",
       "      <td>100.000000</td>\n",
       "      <td>2.476679e+07</td>\n",
       "      <td>1.417292e+07</td>\n",
       "      <td>1.105560e+06</td>\n",
       "      <td>0.0</td>\n",
       "      <td>0.0</td>\n",
       "      <td>0.0</td>\n",
       "      <td>...</td>\n",
       "      <td>3099600</td>\n",
       "      <td>29845800</td>\n",
       "      <td>31617900</td>\n",
       "      <td>2769300</td>\n",
       "      <td>2081700</td>\n",
       "      <td>114534900</td>\n",
       "      <td>1062193500</td>\n",
       "      <td>248421600</td>\n",
       "      <td>2347200</td>\n",
       "      <td>62590.0</td>\n",
       "    </tr>\n",
       "    <tr>\n",
       "      <th>1</th>\n",
       "      <td>22009</td>\n",
       "      <td>2\" to 4\"</td>\n",
       "      <td>39</td>\n",
       "      <td>100.000000</td>\n",
       "      <td>NaN</td>\n",
       "      <td>NaN</td>\n",
       "      <td>NaN</td>\n",
       "      <td>NaN</td>\n",
       "      <td>NaN</td>\n",
       "      <td>NaN</td>\n",
       "      <td>...</td>\n",
       "      <td>47990700</td>\n",
       "      <td>52580700</td>\n",
       "      <td>37260000</td>\n",
       "      <td>12894300</td>\n",
       "      <td>12469500</td>\n",
       "      <td>254997900</td>\n",
       "      <td>830644200</td>\n",
       "      <td>758770200</td>\n",
       "      <td>16775100</td>\n",
       "      <td>40980.0</td>\n",
       "    </tr>\n",
       "    <tr>\n",
       "      <th>2</th>\n",
       "      <td>22011</td>\n",
       "      <td>1\" to 2\"</td>\n",
       "      <td>58</td>\n",
       "      <td>12.217249</td>\n",
       "      <td>NaN</td>\n",
       "      <td>NaN</td>\n",
       "      <td>NaN</td>\n",
       "      <td>NaN</td>\n",
       "      <td>NaN</td>\n",
       "      <td>NaN</td>\n",
       "      <td>...</td>\n",
       "      <td>8638200</td>\n",
       "      <td>1443164400</td>\n",
       "      <td>53488800</td>\n",
       "      <td>338255100</td>\n",
       "      <td>136060200</td>\n",
       "      <td>226836900</td>\n",
       "      <td>31453200</td>\n",
       "      <td>535906800</td>\n",
       "      <td>5139000</td>\n",
       "      <td>36928.0</td>\n",
       "    </tr>\n",
       "    <tr>\n",
       "      <th>3</th>\n",
       "      <td>22013</td>\n",
       "      <td>1\" to 2\"</td>\n",
       "      <td>39</td>\n",
       "      <td>100.000000</td>\n",
       "      <td>NaN</td>\n",
       "      <td>NaN</td>\n",
       "      <td>NaN</td>\n",
       "      <td>NaN</td>\n",
       "      <td>NaN</td>\n",
       "      <td>NaN</td>\n",
       "      <td>...</td>\n",
       "      <td>109230300</td>\n",
       "      <td>1048653000</td>\n",
       "      <td>23819400</td>\n",
       "      <td>237616200</td>\n",
       "      <td>147206700</td>\n",
       "      <td>22209300</td>\n",
       "      <td>2137500</td>\n",
       "      <td>366525000</td>\n",
       "      <td>2635200</td>\n",
       "      <td>13638.0</td>\n",
       "    </tr>\n",
       "    <tr>\n",
       "      <th>4</th>\n",
       "      <td>22015</td>\n",
       "      <td>0\" to 1\"</td>\n",
       "      <td>39</td>\n",
       "      <td>43.920893</td>\n",
       "      <td>NaN</td>\n",
       "      <td>NaN</td>\n",
       "      <td>NaN</td>\n",
       "      <td>NaN</td>\n",
       "      <td>NaN</td>\n",
       "      <td>NaN</td>\n",
       "      <td>...</td>\n",
       "      <td>121778100</td>\n",
       "      <td>799141500</td>\n",
       "      <td>84913200</td>\n",
       "      <td>95726700</td>\n",
       "      <td>58199400</td>\n",
       "      <td>273266100</td>\n",
       "      <td>48853800</td>\n",
       "      <td>433539900</td>\n",
       "      <td>12926700</td>\n",
       "      <td>127634.0</td>\n",
       "    </tr>\n",
       "  </tbody>\n",
       "</table>\n",
       "<p>5 rows × 35 columns</p>\n",
       "</div>"
      ],
      "text/plain": [
       "    FIPS MaxPrecipitation  WindSwathRadii  CountyOverlap       VALUE_1  \\\n",
       "0  22001         4\" to 6\"              58     100.000000  2.476679e+07   \n",
       "1  22009         2\" to 4\"              39     100.000000           NaN   \n",
       "2  22011         1\" to 2\"              58      12.217249           NaN   \n",
       "3  22013         1\" to 2\"              39     100.000000           NaN   \n",
       "4  22015         0\" to 1\"              39      43.920893           NaN   \n",
       "\n",
       "        VALUE_2       VALUE_3  VALUE_4  VALUE_5  VALUE_7  ...  \\\n",
       "0  1.417292e+07  1.105560e+06      0.0      0.0      0.0  ...   \n",
       "1           NaN           NaN      NaN      NaN      NaN  ...   \n",
       "2           NaN           NaN      NaN      NaN      NaN  ...   \n",
       "3           NaN           NaN      NaN      NaN      NaN  ...   \n",
       "4           NaN           NaN      NaN      NaN      NaN  ...   \n",
       "\n",
       "   Deciduous_Forest  Evergreen_Forest  Mixed_Forest  Shrub_Scrub  Herbaceuous  \\\n",
       "0           3099600          29845800      31617900      2769300      2081700   \n",
       "1          47990700          52580700      37260000     12894300     12469500   \n",
       "2           8638200        1443164400      53488800    338255100    136060200   \n",
       "3         109230300        1048653000      23819400    237616200    147206700   \n",
       "4         121778100         799141500      84913200     95726700     58199400   \n",
       "\n",
       "   Hay_Pasture  Cultivated_Crops  Woody_Wetlands  \\\n",
       "0    114534900        1062193500       248421600   \n",
       "1    254997900         830644200       758770200   \n",
       "2    226836900          31453200       535906800   \n",
       "3     22209300           2137500       366525000   \n",
       "4    273266100          48853800       433539900   \n",
       "\n",
       "   Emergent_Herbaceuous_Wetlands  Population  \n",
       "0                        2347200     62590.0  \n",
       "1                       16775100     40980.0  \n",
       "2                        5139000     36928.0  \n",
       "3                        2635200     13638.0  \n",
       "4                       12926700    127634.0  \n",
       "\n",
       "[5 rows x 35 columns]"
      ]
     },
     "execution_count": 6,
     "metadata": {},
     "output_type": "execute_result"
    }
   ],
   "source": [
    "# load test dataset: \n",
    "df = pd.read_csv('/Users/micahkirkpatrick/Documents/decision_support_tool/model_data/base6.csv', skipinitialspace=False)\n",
    "x = df.drop(['SerialNumber', 'HurricaneName', 'DeclarationDate', 'IncidentBeginDate', 'IncidentEndDate', 'DisasterCloseOutDate', 'Declared', 'GeoName', 'County', 'State'], axis = 1)\n",
    "# set input matrix and target column:\n",
    "y = df['Declared']\n",
    "# show first rows of data:\n",
    "x.head()"
   ]
  },
  {
   "cell_type": "code",
   "execution_count": 7,
   "metadata": {},
   "outputs": [],
   "source": [
    "# data split into train & test sets:\n",
    "x_train, x_test, y_train, y_test = train_test_split(x, y, test_size = 0.3, random_state = 1234)"
   ]
  },
  {
   "cell_type": "code",
   "execution_count": 8,
   "metadata": {},
   "outputs": [
    {
     "name": "stdout",
     "output_type": "stream",
     "text": [
      "       FIPS MaxPrecipitation  WindSwathRadii  CountyOverlap       VALUE_1  \\\n",
      "1047  13211         4\" to 6\"              39     100.000000  3.667232e+03   \n",
      "299   51550         1\" to 2\"              39     100.000000  3.099532e+07   \n",
      "1676  12049         4\" to 6\"               0       0.000000  3.667232e+03   \n",
      "614   37091         4\" to 6\"              39      90.374872  1.171629e+07   \n",
      "875   28013         0\" to 1\"               0       0.000000  3.667232e+03   \n",
      "...     ...              ...             ...            ...           ...   \n",
      "279   51165         2\" to 4\"               0       0.000000  3.667232e+03   \n",
      "2041  12127        6\" to 10\"              74      46.300204  3.044275e+07   \n",
      "664   45087         2\" to 4\"               0       0.000000  3.667232e+03   \n",
      "1318  48075         2\" to 4\"               0       0.000000  3.667232e+03   \n",
      "723   51169         2\" to 4\"               0       0.000000  3.667232e+03   \n",
      "\n",
      "           VALUE_2       VALUE_3       VALUE_4       VALUE_5  VALUE_7  ...  \\\n",
      "1047  0.000000e+00  0.000000e+00  0.000000e+00  0.000000e+00      0.0  ...   \n",
      "299   5.341677e+06  0.000000e+00  0.000000e+00  0.000000e+00      0.0  ...   \n",
      "1676  0.000000e+00  0.000000e+00  0.000000e+00  0.000000e+00      0.0  ...   \n",
      "614   2.029477e+07  2.320911e+07  0.000000e+00  0.000000e+00      0.0  ...   \n",
      "875   0.000000e+00  0.000000e+00  0.000000e+00  0.000000e+00      0.0  ...   \n",
      "...            ...           ...           ...           ...      ...  ...   \n",
      "279   0.000000e+00  0.000000e+00  0.000000e+00  0.000000e+00      0.0  ...   \n",
      "2041  5.366005e+07  1.139754e+08  1.040093e+08  1.460803e+08      0.0  ...   \n",
      "664   0.000000e+00  0.000000e+00  0.000000e+00  0.000000e+00      0.0  ...   \n",
      "1318  0.000000e+00  0.000000e+00  0.000000e+00  0.000000e+00      0.0  ...   \n",
      "723   0.000000e+00  0.000000e+00  0.000000e+00  0.000000e+00      0.0  ...   \n",
      "\n",
      "      Deciduous_Forest  Evergreen_Forest  Mixed_Forest  Shrub_Scrub  \\\n",
      "1047         223108200         206555400      79758000     11712600   \n",
      "299            4221000          24222600      14562000      2930400   \n",
      "1676            943200          27083700       6781500     37434600   \n",
      "614           41184000         262178100      79966800     39570300   \n",
      "875          209964600         369172800     138157200     71037900   \n",
      "...                ...               ...           ...          ...   \n",
      "279          938914200          64832400     290744100      6587100   \n",
      "2041           5270400         833302800       3891600     87419700   \n",
      "664          290917800         495997200     149497200     69414300   \n",
      "1318            252900           4827600      21900600   1251905400   \n",
      "723          961919100          11455200      40865400     19172700   \n",
      "\n",
      "      Herbaceuous  Hay_Pasture  Cultivated_Crops  Woody_Wetlands  \\\n",
      "1047     27711000    233841600           4218300        40037400   \n",
      "299       1445400      1449000         195282000       403009200   \n",
      "1676     26620200    705176100         232128900       428855400   \n",
      "614      18055800      2432700         230306400       175093200   \n",
      "875      41417100    239175000         219303000       134745300   \n",
      "...           ...          ...               ...             ...   \n",
      "279       8358300    539143200         161925300          255600   \n",
      "2041     35731800    152769600           2209500       836328600   \n",
      "664      57885300    129395700            526500        41400000   \n",
      "1318      8253000            0         442286100         1022400   \n",
      "723      29934000    223038900            342900         1398600   \n",
      "\n",
      "      Emergent_Herbaceuous_Wetlands  Population  \n",
      "1047                         579600     18412.0  \n",
      "299                        13955400    240397.0  \n",
      "1676                       38232000     27411.0  \n",
      "614                         2638800     23906.0  \n",
      "875                        15714900     14492.0  \n",
      "...                             ...         ...  \n",
      "279                           84600     14144.0  \n",
      "2041                      232391700    538692.0  \n",
      "664                         1858500     27537.0  \n",
      "1318                         363600      7067.0  \n",
      "723                          698400     21865.0  \n",
      "\n",
      "[1526 rows x 35 columns]\n"
     ]
    }
   ],
   "source": [
    "train_mode = dict(x_train.mode().iloc[0])\n",
    "x_train = x_train.fillna(train_mode)\n",
    "print(x_train)"
   ]
  },
  {
   "cell_type": "code",
   "execution_count": 10,
   "metadata": {},
   "outputs": [],
   "source": [
    "# convert categorical input feature elements:\n",
    "x_encoders = {}\n",
    "\n",
    "for column in ['FIPS',\n",
    "              'MaxPrecipitation',\n",
    "              'WindSwathRadii']:\n",
    "    categorical_convert = LabelEncoder()\n",
    "    x_train[column] = categorical_convert.fit_transform(x_train[column])\n",
    "    x_encoders[column] = categorical_convert\n",
    "    \n",
    "# convert the categorical target elements:\n",
    "categorical_convert = LabelEncoder()\n",
    "y_train = categorical_convert.fit_transform(y_train)"
   ]
  },
  {
   "cell_type": "code",
   "execution_count": 13,
   "metadata": {},
   "outputs": [
    {
     "data": {
      "text/plain": [
       "array([1, 0, 0, ..., 0, 0, 0])"
      ]
     },
     "execution_count": 13,
     "metadata": {},
     "output_type": "execute_result"
    }
   ],
   "source": [
    "y_train"
   ]
  },
  {
   "cell_type": "code",
   "execution_count": 14,
   "metadata": {},
   "outputs": [],
   "source": [
    "# train the random forest algorithm:\n",
    "rf = RandomForestClassifier(n_estimators=100)\n",
    "rf = rf.fit(x_train, y_train)"
   ]
  },
  {
   "cell_type": "code",
   "execution_count": 15,
   "metadata": {},
   "outputs": [
    {
     "data": {
      "text/plain": [
       "RandomForestClassifier(bootstrap=True, ccp_alpha=0.0, class_weight=None,\n",
       "                       criterion='gini', max_depth=None, max_features='auto',\n",
       "                       max_leaf_nodes=None, max_samples=None,\n",
       "                       min_impurity_decrease=0.0, min_impurity_split=None,\n",
       "                       min_samples_leaf=1, min_samples_split=2,\n",
       "                       min_weight_fraction_leaf=0.0, n_estimators=100,\n",
       "                       n_jobs=None, oob_score=False, random_state=None,\n",
       "                       verbose=0, warm_start=False)"
      ]
     },
     "execution_count": 15,
     "metadata": {},
     "output_type": "execute_result"
    }
   ],
   "source": [
    "rf"
   ]
  },
  {
   "cell_type": "code",
   "execution_count": 16,
   "metadata": {},
   "outputs": [],
   "source": [
    "# train the Extra Trees algorithm:\n",
    "et = ExtraTreesClassifier(n_estimators = 100)\n",
    "et = et.fit(x_train, y_train)"
   ]
  },
  {
   "cell_type": "code",
   "execution_count": 18,
   "metadata": {},
   "outputs": [
    {
     "data": {
      "text/plain": [
       "ExtraTreesClassifier(bootstrap=False, ccp_alpha=0.0, class_weight=None,\n",
       "                     criterion='gini', max_depth=None, max_features='auto',\n",
       "                     max_leaf_nodes=None, max_samples=None,\n",
       "                     min_impurity_decrease=0.0, min_impurity_split=None,\n",
       "                     min_samples_leaf=1, min_samples_split=2,\n",
       "                     min_weight_fraction_leaf=0.0, n_estimators=100,\n",
       "                     n_jobs=None, oob_score=False, random_state=None, verbose=0,\n",
       "                     warm_start=False)"
      ]
     },
     "execution_count": 18,
     "metadata": {},
     "output_type": "execute_result"
    }
   ],
   "source": [
    "et"
   ]
  },
  {
   "cell_type": "code",
   "execution_count": 23,
   "metadata": {},
   "outputs": [
    {
     "data": {
      "text/plain": [
       "['./extra_trees.joblib']"
      ]
     },
     "execution_count": 23,
     "metadata": {},
     "output_type": "execute_result"
    }
   ],
   "source": [
    "# save preprocessing objects, RF & ET algorithms:\n",
    "joblib.dump(train_mode, \"./train_mode.joblib\", compress=True)\n",
    "joblib.dump(x_encoders, \"./encoders.joblib\", compress=True)\n",
    "joblib.dump(rf, \"./random_forest.joblib\", compress=True)\n",
    "joblib.dump(et, \"./extra_trees.joblib\", compress=True)"
   ]
  }
 ],
 "metadata": {
  "kernelspec": {
   "display_name": "venv",
   "language": "python",
   "name": "venv"
  },
  "language_info": {
   "codemirror_mode": {
    "name": "ipython",
    "version": 3
   },
   "file_extension": ".py",
   "mimetype": "text/x-python",
   "name": "python",
   "nbconvert_exporter": "python",
   "pygments_lexer": "ipython3",
   "version": "3.7.6"
  }
 },
 "nbformat": 4,
 "nbformat_minor": 4
}
